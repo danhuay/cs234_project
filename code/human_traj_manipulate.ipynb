{
 "cells": [
  {
   "cell_type": "code",
   "execution_count": 14,
   "metadata": {},
   "outputs": [],
   "source": [
    "import sys\n",
    "sys.path.append('/home/dyan/stanford/su_cs234/')\n",
    "\n",
    "import os\n",
    "import pickle\n",
    "import torch\n",
    "import numpy as np\n",
    "import matplotlib.pyplot as plt\n",
    "from final_project.code.src.wrapper import CustomRewardEnv\n",
    "from final_project.code.src.actions import meaningful_actions\n",
    "\n",
    "import warnings\n",
    "\n",
    "warnings.filterwarnings('ignore')\n",
    "\n",
    "def action_to_string(action_arr):\n",
    "    return \"\".join([str(x) for x in action_arr])\n",
    "\n",
    "ACTIONS = {k: v for v, k in enumerate(action_to_string(a) for a in meaningful_actions)}"
   ]
  },
  {
   "cell_type": "code",
   "execution_count": 15,
   "metadata": {},
   "outputs": [],
   "source": [
    "class HumanDemonstrationEnv:\n",
    "    def __init__(self, traj_file):\n",
    "        self.trajectory = self.get_traj(traj_file)\n",
    "        self.max_step = len(self.trajectory) - 1\n",
    "    \n",
    "    def get_traj(self, traj_file):\n",
    "        with open(os.path.join(traj_file), \"rb\") as f:\n",
    "            _t = pickle.load(f)\n",
    "        return _t\n",
    "    \n",
    "    def step(self, action_step):\n",
    "        if action_step <= self.max_step:\n",
    "            current_traj = self.trajectory[action_step]\n",
    "            obs = current_traj[\"observation\"]\n",
    "            reward = current_traj[\"reward\"]\n",
    "            info = current_traj[\"info\"]\n",
    "            if action_step == self.max_step:\n",
    "                return obs, reward, True, True, info\n",
    "            else:\n",
    "                return obs, reward, False, False, info\n",
    "        else:\n",
    "            raise ValueError(f\"{action_step} step not found.\")\n",
    "\n",
    "    def fetch_action(self, action_step):\n",
    "        # only keep allowed actions, otherwise marked as -1\n",
    "        a = self.trajectory[action_step][\"action\"]\n",
    "        a_str = action_to_string(a)\n",
    "        if a_str not in ACTIONS:\n",
    "            return -1\n",
    "        else:\n",
    "            return ACTIONS[a_str]"
   ]
  },
  {
   "cell_type": "code",
   "execution_count": 16,
   "metadata": {},
   "outputs": [],
   "source": [
    "def get_traj_info(traj_file, skip_frame=4):\n",
    "\n",
    "    env = CustomRewardEnv(\n",
    "        HumanDemonstrationEnv(traj_file)\n",
    "    )\n",
    "\n",
    "    rewards = []\n",
    "    states = []\n",
    "    actions = []\n",
    "    infos = []\n",
    "    done = False \n",
    "\n",
    "    i = 0\n",
    "    while not done or i <= 2500:  # truncate automatic frames\n",
    "        obs, reward, terminated, truncated, info = env.step(i)\n",
    "        done = terminated or truncated\n",
    "        action = env.fetch_action(i)\n",
    "        i += 1\n",
    "        \n",
    "        # skip is action is not allowed\n",
    "        if action == -1:\n",
    "            continue\n",
    "        else:\n",
    "            rewards.append(reward if not done else 0)\n",
    "            states.append(obs)\n",
    "            actions.append(action)\n",
    "            infos.append(info)\n",
    "\n",
    "    print(np.sum(rewards))\n",
    "    # projected_rewards = np.cumsum(rewards[::-1], dtype=np.float32)[::-1]\n",
    "\n",
    "    # desired_dict = {}\n",
    "    # # for (state, proj_reward) pair\n",
    "    # traj_output_s_pr = []\n",
    "    # for s, proj_r, info in zip(\n",
    "    #     states[::skip_frame], projected_rewards[::skip_frame], infos[::skip_frame]\n",
    "    # ):\n",
    "    #     traj_output_s_pr.append((s, proj_r, info))\n",
    "    # desired_dict[\"s_pr_pair\"] = traj_output_s_pr\n",
    "    \n",
    "    # for (state, action) pair\n",
    "    traj_output_s_a = []\n",
    "    for s, a in zip(states[::skip_frame], actions[::skip_frame]):\n",
    "        traj_output_s_a.append((s, a))\n",
    "    # desired_dict[\"s_a_pair\"] = traj_output_s_a\n",
    "    \n",
    "    return traj_output_s_a"
   ]
  },
  {
   "cell_type": "code",
   "execution_count": 17,
   "metadata": {},
   "outputs": [
    {
     "name": "stdout",
     "output_type": "stream",
     "text": [
      "0\n",
      "5201.500000000001\n",
      "1\n",
      "4513.700000000001\n",
      "2\n",
      "5679.400000000001\n",
      "3\n",
      "5582.500000000001\n",
      "4\n",
      "5960.6\n"
     ]
    }
   ],
   "source": [
    "trajs = os.listdir(\"human_demon\")\n",
    "holder = []\n",
    "for idx, file_name in enumerate(trajs):\n",
    "    print(idx)\n",
    "    tf = os.path.join(\"human_demon\", file_name)\n",
    "    traj_output = get_traj_info(tf)\n",
    "    holder.extend(traj_output)\n",
    "\n",
    "with open(os.path.join(\"human_demon_processed\", f\"traj_all.pkl\"), \"wb\") as f:\n",
    "    pickle.dump(holder, f)"
   ]
  },
  {
   "cell_type": "code",
   "execution_count": null,
   "metadata": {},
   "outputs": [],
   "source": []
  }
 ],
 "metadata": {
  "kernelspec": {
   "display_name": "smrl",
   "language": "python",
   "name": "python3"
  },
  "language_info": {
   "codemirror_mode": {
    "name": "ipython",
    "version": 3
   },
   "file_extension": ".py",
   "mimetype": "text/x-python",
   "name": "python",
   "nbconvert_exporter": "python",
   "pygments_lexer": "ipython3",
   "version": "3.9.21"
  }
 },
 "nbformat": 4,
 "nbformat_minor": 2
}
